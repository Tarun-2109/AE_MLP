{
  "nbformat": 4,
  "nbformat_minor": 0,
  "metadata": {
    "colab": {
      "provenance": []
    },
    "kernelspec": {
      "name": "python3",
      "display_name": "Python 3"
    },
    "language_info": {
      "name": "python"
    }
  },
  "cells": [
    {
      "cell_type": "markdown",
      "source": [
        "# We import all the necessary libraries for our classification"
      ],
      "metadata": {
        "id": "fo37lCliOsd3"
      }
    },
    {
      "cell_type": "code",
      "source": [
        "import numpy as np\n",
        "import matplotlib.pyplot as plt\n",
        "import tensorflow as tf\n",
        "from tensorflow import keras\n",
        "from tensorflow.keras.models import Sequential, Model\n",
        "from tensorflow.keras.layers import Dense, Flatten, Input\n",
        "from tensorflow.keras.utils import to_categorical\n",
        "from tensorflow.keras.optimizers import Adam"
      ],
      "metadata": {
        "id": "5QUYkclJOi0S"
      },
      "execution_count": 50,
      "outputs": []
    },
    {
      "cell_type": "markdown",
      "source": [
        "# To train the data we use an inbuild MNIST dataset #"
      ],
      "metadata": {
        "id": "lCLSYlggO0rE"
      }
    },
    {
      "cell_type": "code",
      "source": [
        "(X_train, y_train), (X_test, y_test) = keras.datasets.mnist.load_data()"
      ],
      "metadata": {
        "id": "SubFSunqNFjX"
      },
      "execution_count": 51,
      "outputs": []
    },
    {
      "cell_type": "markdown",
      "source": [
        "# We flatten the images to 1D vectors of size 28*28 [784 Dimensional]"
      ],
      "metadata": {
        "id": "AKceqzRcOHWC"
      }
    },
    {
      "cell_type": "code",
      "source": [
        "X_train_flattened = X_train.reshape(-1, 28*28)\n",
        "X_test_flattened = X_test.reshape(-1, 28*28)"
      ],
      "metadata": {
        "id": "SRGLA50kODo0"
      },
      "execution_count": 52,
      "outputs": []
    },
    {
      "cell_type": "markdown",
      "source": [
        "# To Normalize the pixel values to be between '0' and '1'"
      ],
      "metadata": {
        "id": "XgsO_adJPKGL"
      }
    },
    {
      "cell_type": "code",
      "source": [
        "X_train_normalized = X_train_flattened / 255.0\n",
        "X_test_normalized = X_test_flattened / 255.0"
      ],
      "metadata": {
        "id": "zXqnBl7UNLy9"
      },
      "execution_count": 53,
      "outputs": []
    },
    {
      "cell_type": "markdown",
      "source": [
        "# We convert the labels to one-hot encoding #"
      ],
      "metadata": {
        "id": "N_IRWAO6PgYV"
      }
    },
    {
      "cell_type": "code",
      "source": [
        "y_train = to_categorical(y_train, 15)\n",
        "y_test = to_categorical(y_test, 15)"
      ],
      "metadata": {
        "id": "13MK9eU1Pu71"
      },
      "execution_count": 54,
      "outputs": []
    },
    {
      "cell_type": "markdown",
      "source": [
        "Autoencoder Architecture:"
      ],
      "metadata": {
        "id": "91J17UC5QIkl"
      }
    },
    {
      "cell_type": "markdown",
      "source": [
        "Encoder: We will compress the image into a smaller latent represntation"
      ],
      "metadata": {
        "id": "6dqX1kNfQYrK"
      }
    },
    {
      "cell_type": "code",
      "source": [
        "input_img = Input(shape=(28*28,))\n",
        "encoded = Dense(128, activation='relu')(input_img)\n",
        "encoded = Dense(64, activation='relu')(encoded)\n",
        "encoded = Dense(32, activation='relu')(encoded)"
      ],
      "metadata": {
        "id": "8rvrKmS0RO8w"
      },
      "execution_count": 55,
      "outputs": []
    },
    {
      "cell_type": "markdown",
      "source": [
        "Decoder: We will reconstruct the image from the compressed respresentation"
      ],
      "metadata": {
        "id": "RE_iktFhR0JP"
      }
    },
    {
      "cell_type": "code",
      "source": [
        "decoded = Dense(64, activation= 'relu')(encoded)\n",
        "decoded = Dense(128, activation= 'relu')(decoded)\n",
        "decoded = Dense(28*28, activation= 'sigmoid')(decoded)"
      ],
      "metadata": {
        "id": "6ASts6jiSAT5"
      },
      "execution_count": 56,
      "outputs": []
    },
    {
      "cell_type": "markdown",
      "source": [
        "# Combining the encoder and decoder into the autoencoder model #"
      ],
      "metadata": {
        "id": "5qRZG9zsSSfn"
      }
    },
    {
      "cell_type": "code",
      "source": [
        "autoencoder = Model(input_img, decoded)"
      ],
      "metadata": {
        "id": "a1JmxE4ZSkUk"
      },
      "execution_count": 57,
      "outputs": []
    },
    {
      "cell_type": "markdown",
      "source": [
        "# Defining the encoder model for feature extraction #"
      ],
      "metadata": {
        "id": "9VBIm2WSSpw5"
      }
    },
    {
      "cell_type": "code",
      "source": [
        "encoder = Model(input_img, encoded)"
      ],
      "metadata": {
        "id": "t-jbRXxIS07s"
      },
      "execution_count": 58,
      "outputs": []
    },
    {
      "cell_type": "markdown",
      "source": [
        "# Compiling the Autoencoder #"
      ],
      "metadata": {
        "id": "VQJC85z7S64z"
      }
    },
    {
      "cell_type": "code",
      "source": [
        "autoencoder.compile(optimizer = 'Adam', loss = 'mse')"
      ],
      "metadata": {
        "id": "gO16QEwsTBbz"
      },
      "execution_count": 59,
      "outputs": []
    },
    {
      "cell_type": "markdown",
      "source": [
        "# Training Autoencoder #"
      ],
      "metadata": {
        "id": "eOo3h8_GTUQQ"
      }
    },
    {
      "cell_type": "code",
      "source": [
        "history = autoencoder.fit(X_train_normalized, X_train_normalized, epochs=15, batch_size=256, shuffle=True, validation_data=(X_test_normalized, X_test_normalized))"
      ],
      "metadata": {
        "colab": {
          "base_uri": "https://localhost:8080/"
        },
        "id": "v7M9hcCATZHF",
        "outputId": "95df6853-20fa-472c-b16c-e7fbfac78c50"
      },
      "execution_count": 60,
      "outputs": [
        {
          "output_type": "stream",
          "name": "stdout",
          "text": [
            "Epoch 1/15\n",
            "\u001b[1m235/235\u001b[0m \u001b[32m━━━━━━━━━━━━━━━━━━━━\u001b[0m\u001b[37m\u001b[0m \u001b[1m7s\u001b[0m 16ms/step - loss: 0.0953 - val_loss: 0.0373\n",
            "Epoch 2/15\n",
            "\u001b[1m235/235\u001b[0m \u001b[32m━━━━━━━━━━━━━━━━━━━━\u001b[0m\u001b[37m\u001b[0m \u001b[1m5s\u001b[0m 15ms/step - loss: 0.0336 - val_loss: 0.0258\n",
            "Epoch 3/15\n",
            "\u001b[1m235/235\u001b[0m \u001b[32m━━━━━━━━━━━━━━━━━━━━\u001b[0m\u001b[37m\u001b[0m \u001b[1m5s\u001b[0m 21ms/step - loss: 0.0253 - val_loss: 0.0226\n",
            "Epoch 4/15\n",
            "\u001b[1m235/235\u001b[0m \u001b[32m━━━━━━━━━━━━━━━━━━━━\u001b[0m\u001b[37m\u001b[0m \u001b[1m4s\u001b[0m 17ms/step - loss: 0.0223 - val_loss: 0.0201\n",
            "Epoch 5/15\n",
            "\u001b[1m235/235\u001b[0m \u001b[32m━━━━━━━━━━━━━━━━━━━━\u001b[0m\u001b[37m\u001b[0m \u001b[1m4s\u001b[0m 15ms/step - loss: 0.0199 - val_loss: 0.0183\n",
            "Epoch 6/15\n",
            "\u001b[1m235/235\u001b[0m \u001b[32m━━━━━━━━━━━━━━━━━━━━\u001b[0m\u001b[37m\u001b[0m \u001b[1m6s\u001b[0m 21ms/step - loss: 0.0182 - val_loss: 0.0168\n",
            "Epoch 7/15\n",
            "\u001b[1m235/235\u001b[0m \u001b[32m━━━━━━━━━━━━━━━━━━━━\u001b[0m\u001b[37m\u001b[0m \u001b[1m4s\u001b[0m 16ms/step - loss: 0.0168 - val_loss: 0.0158\n",
            "Epoch 8/15\n",
            "\u001b[1m235/235\u001b[0m \u001b[32m━━━━━━━━━━━━━━━━━━━━\u001b[0m\u001b[37m\u001b[0m \u001b[1m4s\u001b[0m 15ms/step - loss: 0.0159 - val_loss: 0.0149\n",
            "Epoch 9/15\n",
            "\u001b[1m235/235\u001b[0m \u001b[32m━━━━━━━━━━━━━━━━━━━━\u001b[0m\u001b[37m\u001b[0m \u001b[1m5s\u001b[0m 21ms/step - loss: 0.0151 - val_loss: 0.0143\n",
            "Epoch 10/15\n",
            "\u001b[1m235/235\u001b[0m \u001b[32m━━━━━━━━━━━━━━━━━━━━\u001b[0m\u001b[37m\u001b[0m \u001b[1m4s\u001b[0m 15ms/step - loss: 0.0145 - val_loss: 0.0137\n",
            "Epoch 11/15\n",
            "\u001b[1m235/235\u001b[0m \u001b[32m━━━━━━━━━━━━━━━━━━━━\u001b[0m\u001b[37m\u001b[0m \u001b[1m4s\u001b[0m 16ms/step - loss: 0.0140 - val_loss: 0.0133\n",
            "Epoch 12/15\n",
            "\u001b[1m235/235\u001b[0m \u001b[32m━━━━━━━━━━━━━━━━━━━━\u001b[0m\u001b[37m\u001b[0m \u001b[1m6s\u001b[0m 21ms/step - loss: 0.0135 - val_loss: 0.0132\n",
            "Epoch 13/15\n",
            "\u001b[1m235/235\u001b[0m \u001b[32m━━━━━━━━━━━━━━━━━━━━\u001b[0m\u001b[37m\u001b[0m \u001b[1m4s\u001b[0m 16ms/step - loss: 0.0131 - val_loss: 0.0125\n",
            "Epoch 14/15\n",
            "\u001b[1m235/235\u001b[0m \u001b[32m━━━━━━━━━━━━━━━━━━━━\u001b[0m\u001b[37m\u001b[0m \u001b[1m4s\u001b[0m 16ms/step - loss: 0.0127 - val_loss: 0.0122\n",
            "Epoch 15/15\n",
            "\u001b[1m235/235\u001b[0m \u001b[32m━━━━━━━━━━━━━━━━━━━━\u001b[0m\u001b[37m\u001b[0m \u001b[1m6s\u001b[0m 21ms/step - loss: 0.0123 - val_loss: 0.0119\n"
          ]
        }
      ]
    },
    {
      "cell_type": "markdown",
      "source": [
        "# Visualizing the loss curve during training #"
      ],
      "metadata": {
        "id": "E1AFDFC9TsAq"
      }
    },
    {
      "cell_type": "code",
      "source": [
        "plt.figure(figsize=(10, 5))\n",
        "plt.plot(history.history['loss'], label='Train Loss')\n",
        "plt.plot(history.history['val_loss'], label='Validation Loss')\n",
        "plt.xlabel('Epochs')\n",
        "plt.ylabel('Loss')\n",
        "plt.title('Autoencoder Training Loss')\n",
        "plt.legend()\n",
        "plt.grid(True)\n",
        "plt.show()"
      ],
      "metadata": {
        "colab": {
          "base_uri": "https://localhost:8080/",
          "height": 487
        },
        "id": "jZGvdsGKUD8b",
        "outputId": "a7c99dca-4259-4761-ce54-198cb645b08c"
      },
      "execution_count": 61,
      "outputs": [
        {
          "output_type": "display_data",
          "data": {
            "text/plain": [
              "<Figure size 1000x500 with 1 Axes>"
            ],
            "image/png": "[encoded data removed]"
          },
          "metadata": {}
        }
      ]
    },
    {
      "cell_type": "markdown",
      "source": [
        "# We use encoder to extract features form the images #"
      ],
      "metadata": {
        "id": "fRwTfaBwUogS"
      }
    },
    {
      "cell_type": "code",
      "source": [
        "X_train_encoded = encoder.predict(X_train_normalized)\n",
        "X_test_encoded = encoder.predict(X_test_normalized)"
      ],
      "metadata": {
        "colab": {
          "base_uri": "https://localhost:8080/"
        },
        "id": "meIXq0aJU5ey",
        "outputId": "a1f5fe2b-4e00-4260-f69e-2a7d51035a97"
      },
      "execution_count": 62,
      "outputs": [
        {
          "output_type": "stream",
          "name": "stderr",
          "text": [
            "WARNING:tensorflow:5 out of the last 2193 calls to <function TensorFlowTrainer.make_predict_function.<locals>.one_step_on_data_distributed at 0x7cfb85a27c40> triggered tf.function retracing. Tracing is expensive and the excessive number of tracings could be due to (1) creating @tf.function repeatedly in a loop, (2) passing tensors with different shapes, (3) passing Python objects instead of tensors. For (1), please define your @tf.function outside of the loop. For (2), @tf.function has reduce_retracing=True option that can avoid unnecessary retracing. For (3), please refer to https://www.tensorflow.org/guide/function#controlling_retracing and https://www.tensorflow.org/api_docs/python/tf/function for  more details.\n"
          ]
        },
        {
          "output_type": "stream",
          "name": "stdout",
          "text": [
            "\u001b[1m1875/1875\u001b[0m \u001b[32m━━━━━━━━━━━━━━━━━━━━\u001b[0m\u001b[37m\u001b[0m \u001b[1m3s\u001b[0m 2ms/step\n",
            "\u001b[1m313/313\u001b[0m \u001b[32m━━━━━━━━━━━━━━━━━━━━\u001b[0m\u001b[37m\u001b[0m \u001b[1m1s\u001b[0m 2ms/step\n"
          ]
        }
      ]
    },
    {
      "cell_type": "markdown",
      "source": [
        "# We have to build MLP model for classification using the encoded fetures #"
      ],
      "metadata": {
        "id": "lXAOVDoqVIYU"
      }
    },
    {
      "cell_type": "code",
      "source": [
        "MLP_model = Sequential([\n",
        "    Dense(128, activation='relu', input_shape=(32,)),\n",
        "    Dense(64, activation='relu'),\n",
        "    Dense(15, activation='softmax')])"
      ],
      "metadata": {
        "colab": {
          "base_uri": "https://localhost:8080/"
        },
        "id": "aHVFci3iVjkU",
        "outputId": "751ccf85-b8ff-47dc-9f95-6c86a7a44bbf"
      },
      "execution_count": 63,
      "outputs": [
        {
          "output_type": "stream",
          "name": "stderr",
          "text": [
            "/usr/local/lib/python3.11/dist-packages/keras/src/layers/core/dense.py:87: UserWarning: Do not pass an `input_shape`/`input_dim` argument to a layer. When using Sequential models, prefer using an `Input(shape)` object as the first layer in the model instead.\n",
            "  super().__init__(activity_regularizer=activity_regularizer, **kwargs)\n"
          ]
        }
      ]
    },
    {
      "cell_type": "markdown",
      "source": [
        "# Compiling the MLP Model #"
      ],
      "metadata": {
        "id": "Ovzn5Ut6Wj7k"
      }
    },
    {
      "cell_type": "code",
      "source": [
        "MLP_model.compile(optimizer = Adam(), loss='categorical_crossentropy', metrics = ['accuracy'])"
      ],
      "metadata": {
        "id": "KmDhc1BVWoeu"
      },
      "execution_count": 64,
      "outputs": []
    },
    {
      "cell_type": "markdown",
      "source": [
        "# We Train the MLP model with the encoded data #"
      ],
      "metadata": {
        "id": "Cm6YZR5TXEj2"
      }
    },
    {
      "cell_type": "code",
      "source": [
        "MLP_history = MLP_model.fit(X_train_encoded, y_train, epochs = 15, batch_size = 256, validation_data = (X_test_encoded, y_test))"
      ],
      "metadata": {
        "colab": {
          "base_uri": "https://localhost:8080/"
        },
        "id": "or0b1K4vXLPE",
        "outputId": "9547f19b-8feb-43cb-edac-2511bc470d67"
      },
      "execution_count": 65,
      "outputs": [
        {
          "output_type": "stream",
          "name": "stdout",
          "text": [
            "Epoch 1/15\n",
            "\u001b[1m235/235\u001b[0m \u001b[32m━━━━━━━━━━━━━━━━━━━━\u001b[0m\u001b[37m\u001b[0m \u001b[1m3s\u001b[0m 6ms/step - accuracy: 0.5326 - loss: 2.4016 - val_accuracy: 0.8871 - val_loss: 0.3813\n",
            "Epoch 2/15\n",
            "\u001b[1m235/235\u001b[0m \u001b[32m━━━━━━━━━━━━━━━━━━━━\u001b[0m\u001b[37m\u001b[0m \u001b[1m1s\u001b[0m 6ms/step - accuracy: 0.8840 - loss: 0.3807 - val_accuracy: 0.9083 - val_loss: 0.3050\n",
            "Epoch 3/15\n",
            "\u001b[1m235/235\u001b[0m \u001b[32m━━━━━━━━━━━━━━━━━━━━\u001b[0m\u001b[37m\u001b[0m \u001b[1m2s\u001b[0m 8ms/step - accuracy: 0.9074 - loss: 0.3055 - val_accuracy: 0.9244 - val_loss: 0.2540\n",
            "Epoch 4/15\n",
            "\u001b[1m235/235\u001b[0m \u001b[32m━━━━━━━━━━━━━━━━━━━━\u001b[0m\u001b[37m\u001b[0m \u001b[1m1s\u001b[0m 5ms/step - accuracy: 0.9184 - loss: 0.2685 - val_accuracy: 0.9319 - val_loss: 0.2253\n",
            "Epoch 5/15\n",
            "\u001b[1m235/235\u001b[0m \u001b[32m━━━━━━━━━━━━━━━━━━━━\u001b[0m\u001b[37m\u001b[0m \u001b[1m2s\u001b[0m 5ms/step - accuracy: 0.9293 - loss: 0.2372 - val_accuracy: 0.9355 - val_loss: 0.2075\n",
            "Epoch 6/15\n",
            "\u001b[1m235/235\u001b[0m \u001b[32m━━━━━━━━━━━━━━━━━━━━\u001b[0m\u001b[37m\u001b[0m \u001b[1m1s\u001b[0m 5ms/step - accuracy: 0.9344 - loss: 0.2112 - val_accuracy: 0.9414 - val_loss: 0.1968\n",
            "Epoch 7/15\n",
            "\u001b[1m235/235\u001b[0m \u001b[32m━━━━━━━━━━━━━━━━━━━━\u001b[0m\u001b[37m\u001b[0m \u001b[1m1s\u001b[0m 5ms/step - accuracy: 0.9413 - loss: 0.1926 - val_accuracy: 0.9379 - val_loss: 0.1981\n",
            "Epoch 8/15\n",
            "\u001b[1m235/235\u001b[0m \u001b[32m━━━━━━━━━━━━━━━━━━━━\u001b[0m\u001b[37m\u001b[0m \u001b[1m1s\u001b[0m 5ms/step - accuracy: 0.9444 - loss: 0.1843 - val_accuracy: 0.9502 - val_loss: 0.1682\n",
            "Epoch 9/15\n",
            "\u001b[1m235/235\u001b[0m \u001b[32m━━━━━━━━━━━━━━━━━━━━\u001b[0m\u001b[37m\u001b[0m \u001b[1m1s\u001b[0m 5ms/step - accuracy: 0.9460 - loss: 0.1735 - val_accuracy: 0.9510 - val_loss: 0.1559\n",
            "Epoch 10/15\n",
            "\u001b[1m235/235\u001b[0m \u001b[32m━━━━━━━━━━━━━━━━━━━━\u001b[0m\u001b[37m\u001b[0m \u001b[1m1s\u001b[0m 5ms/step - accuracy: 0.9500 - loss: 0.1588 - val_accuracy: 0.9558 - val_loss: 0.1482\n",
            "Epoch 11/15\n",
            "\u001b[1m235/235\u001b[0m \u001b[32m━━━━━━━━━━━━━━━━━━━━\u001b[0m\u001b[37m\u001b[0m \u001b[1m2s\u001b[0m 7ms/step - accuracy: 0.9534 - loss: 0.1481 - val_accuracy: 0.9554 - val_loss: 0.1415\n",
            "Epoch 12/15\n",
            "\u001b[1m235/235\u001b[0m \u001b[32m━━━━━━━━━━━━━━━━━━━━\u001b[0m\u001b[37m\u001b[0m \u001b[1m2s\u001b[0m 5ms/step - accuracy: 0.9557 - loss: 0.1450 - val_accuracy: 0.9602 - val_loss: 0.1329\n",
            "Epoch 13/15\n",
            "\u001b[1m235/235\u001b[0m \u001b[32m━━━━━━━━━━━━━━━━━━━━\u001b[0m\u001b[37m\u001b[0m \u001b[1m1s\u001b[0m 5ms/step - accuracy: 0.9588 - loss: 0.1354 - val_accuracy: 0.9600 - val_loss: 0.1351\n",
            "Epoch 14/15\n",
            "\u001b[1m235/235\u001b[0m \u001b[32m━━━━━━━━━━━━━━━━━━━━\u001b[0m\u001b[37m\u001b[0m \u001b[1m1s\u001b[0m 5ms/step - accuracy: 0.9604 - loss: 0.1319 - val_accuracy: 0.9583 - val_loss: 0.1397\n",
            "Epoch 15/15\n",
            "\u001b[1m235/235\u001b[0m \u001b[32m━━━━━━━━━━━━━━━━━━━━\u001b[0m\u001b[37m\u001b[0m \u001b[1m1s\u001b[0m 5ms/step - accuracy: 0.9611 - loss: 0.1261 - val_accuracy: 0.9592 - val_loss: 0.1336\n"
          ]
        }
      ]
    },
    {
      "cell_type": "markdown",
      "source": [
        "# Evaluating the MLP model #"
      ],
      "metadata": {
        "id": "5iPesl9PXezo"
      }
    },
    {
      "cell_type": "code",
      "source": [
        "test_loss, test_accuracy = MLP_model.evaluate(X_test_encoded, y_test)\n",
        "print(f'Test Accuracy of MLP: {test_accuracy:.4f}')"
      ],
      "metadata": {
        "colab": {
          "base_uri": "https://localhost:8080/"
        },
        "id": "OrCZrwtbXkeV",
        "outputId": "4b7c1639-17c8-4800-9da0-aa2ee7848a19"
      },
      "execution_count": 66,
      "outputs": [
        {
          "output_type": "stream",
          "name": "stdout",
          "text": [
            "\u001b[1m313/313\u001b[0m \u001b[32m━━━━━━━━━━━━━━━━━━━━\u001b[0m\u001b[37m\u001b[0m \u001b[1m1s\u001b[0m 2ms/step - accuracy: 0.9522 - loss: 0.1538\n",
            "Test Accuracy of MLP: 0.9592\n"
          ]
        }
      ]
    },
    {
      "cell_type": "markdown",
      "source": [
        "# Plotting the accuracy of the MLP during training #"
      ],
      "metadata": {
        "id": "v5-WfjQHX1ho"
      }
    },
    {
      "cell_type": "code",
      "source": [
        "plt.figure(figsize=(10, 5))\n",
        "plt.plot(MLP_history.history['accuracy'], label='Train Accuracy')\n",
        "plt.plot(MLP_history.history['val_accuracy'], label='Validation Accuracy')\n",
        "plt.xlabel('Epochs')\n",
        "plt.ylabel('Accuracy')\n",
        "plt.title('MLP Training Accuracy')\n",
        "plt.legend()\n",
        "plt.grid(True)\n",
        "plt.show()"
      ],
      "metadata": {
        "colab": {
          "base_uri": "https://localhost:8080/",
          "height": 487
        },
        "id": "ysTMEd8YX-iw",
        "outputId": "efccf7de-65ad-4201-c68a-1079ac1e1039"
      },
      "execution_count": 67,
      "outputs": [
        {
          "output_type": "display_data",
          "data": {
            "text/plain": [
              "<Figure size 1000x500 with 1 Axes>"
            ],
            "image/png": "[encoded data removed]"
          },
          "metadata": {}
        }
      ]
    },
    {
      "cell_type": "markdown",
      "source": [
        "# Visualizing some of the reconstructed images #\n",
        "\n",
        "# We predict first to test samples #"
      ],
      "metadata": {
        "id": "HJE2mE9YYjRB"
      }
    },
    {
      "cell_type": "markdown",
      "source": [
        "# Displaying original images #"
      ],
      "metadata": {
        "id": "Az2ch8oZb32W"
      }
    },
    {
      "cell_type": "code",
      "source": [
        "decoded_images = autoencoder.predict(X_test_normalized[:10])\n",
        "decoded_images = autoencoder.predict(X_test_normalized[:10])\n",
        "Fig, axes = plt.subplots(2, 10, figsize=(15, 6))\n",
        "for i in range(10):\n",
        "  axes[0,i].imshow(X_test[i].reshape((28,28)), cmap = 'gray')\n",
        "  axes[0,i].set_title(\"orignal\")\n",
        "  axes[0,i].axis('off')\n"
      ],
      "metadata": {
        "colab": {
          "base_uri": "https://localhost:8080/",
          "height": 382
        },
        "id": "iJJFCch6cCZZ",
        "outputId": "30e64c0d-f4c1-499a-a161-5fb7a98d05e2"
      },
      "execution_count": 68,
      "outputs": [
        {
          "output_type": "stream",
          "name": "stdout",
          "text": [
            "\u001b[1m1/1\u001b[0m \u001b[32m━━━━━━━━━━━━━━━━━━━━\u001b[0m\u001b[37m\u001b[0m \u001b[1m0s\u001b[0m 107ms/step\n",
            "\u001b[1m1/1\u001b[0m \u001b[32m━━━━━━━━━━━━━━━━━━━━\u001b[0m\u001b[37m\u001b[0m \u001b[1m0s\u001b[0m 48ms/step\n"
          ]
        },
        {
          "output_type": "display_data",
          "data": {
            "text/plain": [
              "<Figure size 1500x600 with 20 Axes>"
            ],
            "image/png": "[encoded data removed]"
          },
          "metadata": {}
        }
      ]
    },
    {
      "cell_type": "markdown",
      "source": [
        "# Displaying reconstructed images #"
      ],
      "metadata": {
        "id": "IPbtedUucyD8"
      }
    },
    {
      "cell_type": "code",
      "source": [
        "axes[1,i].imshow(decoded_images[i].reshape(28,28), cmap = 'gray')\n",
        "axes[1,i].set_title(\"reconstructed\")\n",
        "axes[1,i].axis('off')"
      ],
      "metadata": {
        "colab": {
          "base_uri": "https://localhost:8080/"
        },
        "id": "lWlSaSjec7tk",
        "outputId": "c3c26d8b-fb6e-4619-bbb2-2bae370bef53"
      },
      "execution_count": 69,
      "outputs": [
        {
          "output_type": "execute_result",
          "data": {
            "text/plain": [
              "(np.float64(-0.5), np.float64(27.5), np.float64(27.5), np.float64(-0.5))"
            ]
          },
          "metadata": {},
          "execution_count": 69
        }
      ]
    },
    {
      "cell_type": "markdown",
      "source": [
        "# prediction first 10 images using the trained MLP #"
      ],
      "metadata": {
        "id": "zMNMyq0zdG7N"
      }
    },
    {
      "cell_type": "code",
      "source": [
        "prediction = MLP_model.predict(X_test_encoded[:10])\n",
        "print(\"predicted labels:\", np.argmax(prediction, axis=1))\n",
        "print(\"actual labels:\", np.argmax(y_test[:10], axis=1))"
      ],
      "metadata": {
        "colab": {
          "base_uri": "https://localhost:8080/"
        },
        "id": "IYw-p_j4dVAH",
        "outputId": "d92e24b1-6963-4966-f872-e30a6a77bd8f"
      },
      "execution_count": 70,
      "outputs": [
        {
          "output_type": "stream",
          "name": "stdout",
          "text": [
            "\u001b[1m1/1\u001b[0m \u001b[32m━━━━━━━━━━━━━━━━━━━━\u001b[0m\u001b[37m\u001b[0m \u001b[1m0s\u001b[0m 78ms/step\n",
            "predicted labels: [7 2 1 0 4 1 4 9 6 9]\n",
            "actual labels: [7 2 1 0 4 1 4 9 5 9]\n"
          ]
        }
      ]
    },
    {
      "cell_type": "code",
      "source": [],
      "metadata": {
        "id": "ievTbbv3jdmS"
      },
      "execution_count": 70,
      "outputs": []
    }
  ]
}